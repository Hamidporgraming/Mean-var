{
  "nbformat": 4,
  "nbformat_minor": 0,
  "metadata": {
    "colab": {
      "provenance": []
    },
    "kernelspec": {
      "name": "python3",
      "display_name": "Python 3"
    },
    "language_info": {
      "name": "python"
    }
  },
  "cells": [
    {
      "cell_type": "code",
      "execution_count": 1,
      "metadata": {
        "id": "nUuYY-SiepRQ"
      },
      "outputs": [],
      "source": [
        "import numpy as np\n",
        "\n",
        "def calculate(ls):\n",
        "  if len(ls) != 9:\n",
        "    raise ValueError(\"List must contain nine numbers.\")\n",
        "\n",
        "  mean_row = [ls[[0,1,2]].mean(), ls[[3,4,5]].mean(), ls[[6,7,8]].mean()]\n",
        "  mean_columns = ([ls[[0,3,6]].mean(), ls[[1,4,7]].mean(), ls[[2,5,8]].mean()])\n",
        "\n",
        "  var_row = [ls[[0,1,2]].var(), ls[[3,4,5]].var(), ls[[6,7,8]].var()]\n",
        "  var_columns = ([ls[[0,3,6]].var(), ls[[1,4,7]].var(), ls[[2,5,8]].var()])\n",
        "\n",
        "  std_row = [ls[[0,1,2]].std(), ls[[3,4,5]].std(), ls[[6,7,8]].std()]\n",
        "  std_columns = ([ls[[0,3,6]].std(), ls[[1,4,7]].std(), ls[[2,5,8]].std()])\n",
        "\n",
        "  max_row = [ls[[0,1,2]].max(), ls[[3,4,5]].max(), ls[[6,7,8]].max()]\n",
        "  max_columns = ([ls[[0,3,6]].max(), ls[[1,4,7]].max(), ls[[2,5,8]].max()])\n",
        "\n",
        "  min_row = [ls[[0,1,2]].min(), ls[[3,4,5]].min(), ls[[6,7,8]].min()]\n",
        "  min_columns = ([ls[[0,3,6]].min(), ls[[1,4,7]].min(), ls[[2,5,8]].min()])\n",
        "\n",
        "  sum_row = [ls[[0,1,2]].sum(), ls[[3,4,5]].sum(), ls[[6,7,8]].sum()]\n",
        "  sum_columns = ([ls[[0,3,6]].sum(), ls[[1,4,7]].sum(), ls[[2,5,8]].sum()])\n",
        "\n",
        "\n",
        "\n",
        "  return {\n",
        "    'mean': [mean_columns, mean_row, ls.mean()],\n",
        "    'variance': [var_columns, var_row, ls.var()],\n",
        "    'standard deviation': [std_columns, std_row, ls.std()],\n",
        "    'max': [max_columns, max_row, ls.max()],\n",
        "    'min': [min_columns, min_row, ls.min()],\n",
        "    'sum': [sum_columns,sum_row, ls.sum()]\n",
        "\n",
        "    }"
      ]
    }
  ]
}